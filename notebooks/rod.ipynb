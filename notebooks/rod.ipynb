{
 "cells": [
  {
   "cell_type": "code",
   "execution_count": 1,
   "id": "eaa038d4-4581-461e-8f1c-351e105cc4cd",
   "metadata": {},
   "outputs": [],
   "source": [
    "import pandas as pd"
   ]
  },
  {
   "cell_type": "code",
   "execution_count": 22,
   "id": "a0775549-5763-482e-963a-129b10ab4c06",
   "metadata": {},
   "outputs": [
    {
     "name": "stdout",
     "output_type": "stream",
     "text": [
      "Arquivo salvo como 'Falhas_04-06-2024_Relatorio_1_modificado.csv'.\n"
     ]
    }
   ],
   "source": [
    "# Carregando o arquivo CSV\n",
    "df_falhas = pd.read_csv(\"Falhas 04-06-2024 Relatório 1.csv\")\n",
    "\n",
    "# Verificando se a primeira coluna está vazia\n",
    "if df_falhas.iloc[:, 0].isnull().all():\n",
    "    # Removendo a primeira coluna\n",
    "    df_falhas = df_falhas.drop(df_falhas.columns[0], axis=1)\n",
    "\n",
    "# Salvando a nova versão do DataFrame em um arquivo CSV\n",
    "df_falhas.to_csv(\"Falhas_04-06-2024_Relatorio_1_modificado.csv\", index=False)\n",
    "\n",
    "print(\"Arquivo salvo como 'Falhas_04-06-2024_Relatorio_1_modificado.csv'.\")"
   ]
  },
  {
   "cell_type": "code",
   "execution_count": 23,
   "id": "8ed6902c-1dab-417c-bfe5-997e51ea60cf",
   "metadata": {},
   "outputs": [],
   "source": [
    "df_filtrado = df_falhas[df_falhas['HALLE'] == 'ROD']\n",
    "df_filtrado.to_csv('df_rod.csv', index=False)"
   ]
  }
 ],
 "metadata": {
  "kernelspec": {
   "display_name": "Python 3 (ipykernel)",
   "language": "python",
   "name": "python3"
  },
  "language_info": {
   "codemirror_mode": {
    "name": "ipython",
    "version": 3
   },
   "file_extension": ".py",
   "mimetype": "text/x-python",
   "name": "python",
   "nbconvert_exporter": "python",
   "pygments_lexer": "ipython3",
   "version": "3.12.0"
  }
 },
 "nbformat": 4,
 "nbformat_minor": 5
}
