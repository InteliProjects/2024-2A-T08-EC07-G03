{
 "cells": [
  {
   "cell_type": "markdown",
   "metadata": {},
   "source": [
    "## Instalação de Dependências"
   ]
  },
  {
   "cell_type": "code",
   "execution_count": 130,
   "metadata": {},
   "outputs": [
    {
     "name": "stdout",
     "output_type": "stream",
     "text": [
      "Requirement already satisfied: pandas in /home/linguica/.venv/lib/python3.10/site-packages (2.2.3)\n",
      "Requirement already satisfied: numpy>=1.22.4 in /home/linguica/.venv/lib/python3.10/site-packages (from pandas) (1.26.4)\n",
      "Requirement already satisfied: python-dateutil>=2.8.2 in /home/linguica/.venv/lib/python3.10/site-packages (from pandas) (2.9.0.post0)\n",
      "Requirement already satisfied: pytz>=2020.1 in /home/linguica/.venv/lib/python3.10/site-packages (from pandas) (2024.2)\n",
      "Requirement already satisfied: tzdata>=2022.7 in /home/linguica/.venv/lib/python3.10/site-packages (from pandas) (2024.1)\n",
      "Requirement already satisfied: six>=1.5 in /home/linguica/.venv/lib/python3.10/site-packages (from python-dateutil>=2.8.2->pandas) (1.16.0)\n",
      "Note: you may need to restart the kernel to use updated packages.\n"
     ]
    }
   ],
   "source": [
    "%pip install pandas"
   ]
  },
  {
   "cell_type": "code",
   "execution_count": 131,
   "metadata": {},
   "outputs": [
    {
     "name": "stdout",
     "output_type": "stream",
     "text": [
      "Requirement already satisfied: openpyxl in /home/linguica/.venv/lib/python3.10/site-packages (3.1.5)\n",
      "Requirement already satisfied: et-xmlfile in /home/linguica/.venv/lib/python3.10/site-packages (from openpyxl) (1.1.0)\n",
      "Note: you may need to restart the kernel to use updated packages.\n"
     ]
    }
   ],
   "source": [
    "%pip install openpyxl"
   ]
  },
  {
   "cell_type": "markdown",
   "metadata": {},
   "source": [
    "# Tratamento dos dados da tabela STATUS"
   ]
  },
  {
   "cell_type": "code",
   "execution_count": 132,
   "metadata": {},
   "outputs": [],
   "source": [
    "import pandas as pd"
   ]
  },
  {
   "cell_type": "code",
   "execution_count": 133,
   "metadata": {},
   "outputs": [],
   "source": [
    "df_falhas = pd.read_excel('/home/linguica/isabelle/sprint4/FALHAS_PREDICT.xlsx')"
   ]
  },
  {
   "cell_type": "markdown",
   "metadata": {},
   "source": [
    "Como o arquivo em exel tinha várias abas com dados, foi necessário juntar os dados de todas essas abas em um unico arquivo"
   ]
  },
  {
   "cell_type": "code",
   "execution_count": 134,
   "metadata": {},
   "outputs": [
    {
     "name": "stderr",
     "output_type": "stream",
     "text": [
      "/home/linguica/.venv/lib/python3.10/site-packages/openpyxl/styles/stylesheet.py:237: UserWarning: Workbook contains no default style, apply openpyxl's default\n",
      "  warn(\"Workbook contains no default style, apply openpyxl's default\")\n"
     ]
    },
    {
     "name": "stdout",
     "output_type": "stream",
     "text": [
      "Processing sheet Relatório 1\n",
      "Processed 1048574 rows\n",
      "Processing sheet Relatório 1(1)\n",
      "Processed 1048575 rows\n",
      "Processing sheet Relatório 1(2)\n",
      "Processed 1048575 rows\n",
      "Processing sheet Relatório 1(3)\n",
      "Processed 1048575 rows\n",
      "Processing sheet Relatório 1(4)\n",
      "Processed 153682 rows\n",
      "Processed 5 sheets\n",
      "   Unnamed: 0    Unnamed: 1 Unnamed: 2           Unnamed: 3  KNR STATUS DATA\n",
      "0         NaN           KNR     STATUS                 DATA  NaN    NaN  NaT\n",
      "1         NaN  2023-2016173       G620  2023-06-06 07:50:27  NaN    NaN  NaT\n",
      "2         NaN  2023-2016173       M620  2023-06-06 07:50:27  NaN    NaN  NaT\n",
      "3         NaN  2023-2026032       G620  2023-06-20 17:35:51  NaN    NaN  NaT\n",
      "4         NaN  2023-2026032       M620  2023-06-20 17:35:51  NaN    NaN  NaT\n"
     ]
    }
   ],
   "source": [
    "import pandas as pd\n",
    "\n",
    "# Definir o caminho base\n",
    "BASE_PATH = 'STATUS_PREDICTOR_ANO.xlsx'\n",
    "column_names = ['KNR', 'STATUS', 'DATA']  # Nomes das colunas a serem usadas\n",
    "\n",
    "def read_excel_sheets(file_path):\n",
    "    # Carregar o arquivo Excel\n",
    "    excel_data = pd.ExcelFile(f'{BASE_PATH}{file_path}')\n",
    "    \n",
    "    df_list = []\n",
    "    \n",
    "    for i, sheet in enumerate(excel_data.sheet_names):\n",
    "        print(f'Processing sheet {sheet}')\n",
    "        # A primeira aba tem o cabeçalho correto\n",
    "        if i == 0:\n",
    "            df = pd.read_excel(excel_data, sheet_name=sheet, header=0)\n",
    "        else:\n",
    "            # Nas outras abas, ler os dados sem cabeçalho\n",
    "            df = pd.read_excel(excel_data, sheet_name=sheet, header=None)\n",
    "            # Renomear colunas para 'Unnamed: 1', 'Unnamed: 2', etc., e limpar\n",
    "            df = pd.DataFrame(df[[1, 2, 3]])  # Selecionar as colunas certas\n",
    "            df.columns = column_names  # Atribuir os nomes das colunas\n",
    "            \n",
    "        df_list.append(df)\n",
    "        print(f'Processed {df.shape[0]} rows')\n",
    "    \n",
    "    print(f'Processed {len(df_list)} sheets')\n",
    "    return pd.concat(df_list, ignore_index=True)\n",
    "\n",
    "# Usar a função\n",
    "df_tst = read_excel_sheets(\"\")\n",
    "print(df_tst.head())\n"
   ]
  },
  {
   "cell_type": "markdown",
   "metadata": {},
   "source": [
    "Removendo as linhas onde a coluna \"STATUS\" contém valores nulos"
   ]
  },
  {
   "cell_type": "code",
   "execution_count": 135,
   "metadata": {},
   "outputs": [
    {
     "data": {
      "text/plain": [
       "(3299407, 7)"
      ]
     },
     "execution_count": 135,
     "metadata": {},
     "output_type": "execute_result"
    }
   ],
   "source": [
    "df_tst = df_tst[df_tst[\"STATUS\"].isnull()==False]\n",
    "df_tst.shape"
   ]
  },
  {
   "cell_type": "markdown",
   "metadata": {},
   "source": [
    "Início do tratamento das colunas necessárias da tabela STATUS"
   ]
  },
  {
   "cell_type": "code",
   "execution_count": 136,
   "metadata": {},
   "outputs": [
    {
     "data": {
      "text/html": [
       "<div>\n",
       "<style scoped>\n",
       "    .dataframe tbody tr th:only-of-type {\n",
       "        vertical-align: middle;\n",
       "    }\n",
       "\n",
       "    .dataframe tbody tr th {\n",
       "        vertical-align: top;\n",
       "    }\n",
       "\n",
       "    .dataframe thead th {\n",
       "        text-align: right;\n",
       "    }\n",
       "</style>\n",
       "<table border=\"1\" class=\"dataframe\">\n",
       "  <thead>\n",
       "    <tr style=\"text-align: right;\">\n",
       "      <th></th>\n",
       "      <th>Unnamed: 0</th>\n",
       "      <th>Unnamed: 1</th>\n",
       "      <th>Unnamed: 2</th>\n",
       "      <th>Unnamed: 3</th>\n",
       "      <th>KNR</th>\n",
       "      <th>STATUS</th>\n",
       "      <th>DATA</th>\n",
       "    </tr>\n",
       "  </thead>\n",
       "  <tbody>\n",
       "    <tr>\n",
       "      <th>1048574</th>\n",
       "      <td>NaN</td>\n",
       "      <td>NaN</td>\n",
       "      <td>NaN</td>\n",
       "      <td>NaN</td>\n",
       "      <td>2023-4026002</td>\n",
       "      <td>R600</td>\n",
       "      <td>2023-09-29 07:14:44</td>\n",
       "    </tr>\n",
       "    <tr>\n",
       "      <th>1048575</th>\n",
       "      <td>NaN</td>\n",
       "      <td>NaN</td>\n",
       "      <td>NaN</td>\n",
       "      <td>NaN</td>\n",
       "      <td>2023-4026002</td>\n",
       "      <td>R700</td>\n",
       "      <td>2023-09-29 07:38:47</td>\n",
       "    </tr>\n",
       "    <tr>\n",
       "      <th>1048576</th>\n",
       "      <td>NaN</td>\n",
       "      <td>NaN</td>\n",
       "      <td>NaN</td>\n",
       "      <td>NaN</td>\n",
       "      <td>2023-4026002</td>\n",
       "      <td>R725</td>\n",
       "      <td>2023-09-29 07:53:00</td>\n",
       "    </tr>\n",
       "    <tr>\n",
       "      <th>1048577</th>\n",
       "      <td>NaN</td>\n",
       "      <td>NaN</td>\n",
       "      <td>NaN</td>\n",
       "      <td>NaN</td>\n",
       "      <td>2023-4026002</td>\n",
       "      <td>R750</td>\n",
       "      <td>2023-09-29 08:16:23</td>\n",
       "    </tr>\n",
       "    <tr>\n",
       "      <th>1048578</th>\n",
       "      <td>NaN</td>\n",
       "      <td>NaN</td>\n",
       "      <td>NaN</td>\n",
       "      <td>NaN</td>\n",
       "      <td>2023-4026002</td>\n",
       "      <td>R755</td>\n",
       "      <td>2023-09-29 08:17:01</td>\n",
       "    </tr>\n",
       "  </tbody>\n",
       "</table>\n",
       "</div>"
      ],
      "text/plain": [
       "         Unnamed: 0 Unnamed: 1 Unnamed: 2 Unnamed: 3           KNR STATUS  \\\n",
       "1048574         NaN        NaN        NaN        NaN  2023-4026002   R600   \n",
       "1048575         NaN        NaN        NaN        NaN  2023-4026002   R700   \n",
       "1048576         NaN        NaN        NaN        NaN  2023-4026002   R725   \n",
       "1048577         NaN        NaN        NaN        NaN  2023-4026002   R750   \n",
       "1048578         NaN        NaN        NaN        NaN  2023-4026002   R755   \n",
       "\n",
       "                       DATA  \n",
       "1048574 2023-09-29 07:14:44  \n",
       "1048575 2023-09-29 07:38:47  \n",
       "1048576 2023-09-29 07:53:00  \n",
       "1048577 2023-09-29 08:16:23  \n",
       "1048578 2023-09-29 08:17:01  "
      ]
     },
     "execution_count": 136,
     "metadata": {},
     "output_type": "execute_result"
    }
   ],
   "source": [
    "df_tst.head()"
   ]
  },
  {
   "cell_type": "code",
   "execution_count": 137,
   "metadata": {},
   "outputs": [],
   "source": [
    "df_tst = df_tst.drop(columns=[\"Unnamed: 0\", \"Unnamed: 1\", \"Unnamed: 2\", \"Unnamed: 3\"])"
   ]
  },
  {
   "cell_type": "code",
   "execution_count": 138,
   "metadata": {},
   "outputs": [
    {
     "data": {
      "text/html": [
       "<div>\n",
       "<style scoped>\n",
       "    .dataframe tbody tr th:only-of-type {\n",
       "        vertical-align: middle;\n",
       "    }\n",
       "\n",
       "    .dataframe tbody tr th {\n",
       "        vertical-align: top;\n",
       "    }\n",
       "\n",
       "    .dataframe thead th {\n",
       "        text-align: right;\n",
       "    }\n",
       "</style>\n",
       "<table border=\"1\" class=\"dataframe\">\n",
       "  <thead>\n",
       "    <tr style=\"text-align: right;\">\n",
       "      <th></th>\n",
       "      <th>KNR</th>\n",
       "      <th>STATUS</th>\n",
       "      <th>DATA</th>\n",
       "    </tr>\n",
       "  </thead>\n",
       "  <tbody>\n",
       "    <tr>\n",
       "      <th>1048574</th>\n",
       "      <td>2023-4026002</td>\n",
       "      <td>R600</td>\n",
       "      <td>2023-09-29 07:14:44</td>\n",
       "    </tr>\n",
       "    <tr>\n",
       "      <th>1048575</th>\n",
       "      <td>2023-4026002</td>\n",
       "      <td>R700</td>\n",
       "      <td>2023-09-29 07:38:47</td>\n",
       "    </tr>\n",
       "    <tr>\n",
       "      <th>1048576</th>\n",
       "      <td>2023-4026002</td>\n",
       "      <td>R725</td>\n",
       "      <td>2023-09-29 07:53:00</td>\n",
       "    </tr>\n",
       "    <tr>\n",
       "      <th>1048577</th>\n",
       "      <td>2023-4026002</td>\n",
       "      <td>R750</td>\n",
       "      <td>2023-09-29 08:16:23</td>\n",
       "    </tr>\n",
       "    <tr>\n",
       "      <th>1048578</th>\n",
       "      <td>2023-4026002</td>\n",
       "      <td>R755</td>\n",
       "      <td>2023-09-29 08:17:01</td>\n",
       "    </tr>\n",
       "  </tbody>\n",
       "</table>\n",
       "</div>"
      ],
      "text/plain": [
       "                  KNR STATUS                DATA\n",
       "1048574  2023-4026002   R600 2023-09-29 07:14:44\n",
       "1048575  2023-4026002   R700 2023-09-29 07:38:47\n",
       "1048576  2023-4026002   R725 2023-09-29 07:53:00\n",
       "1048577  2023-4026002   R750 2023-09-29 08:16:23\n",
       "1048578  2023-4026002   R755 2023-09-29 08:17:01"
      ]
     },
     "execution_count": 138,
     "metadata": {},
     "output_type": "execute_result"
    }
   ],
   "source": [
    "df_tst.head()"
   ]
  },
  {
   "cell_type": "code",
   "execution_count": 139,
   "metadata": {},
   "outputs": [],
   "source": [
    "df_tst = df_tst.reset_index()"
   ]
  },
  {
   "cell_type": "code",
   "execution_count": 140,
   "metadata": {},
   "outputs": [
    {
     "data": {
      "text/plain": [
       "Index(['index', 'KNR', 'STATUS', 'DATA'], dtype='object')"
      ]
     },
     "execution_count": 140,
     "metadata": {},
     "output_type": "execute_result"
    }
   ],
   "source": [
    "df_tst.columns"
   ]
  },
  {
   "cell_type": "code",
   "execution_count": 141,
   "metadata": {},
   "outputs": [
    {
     "data": {
      "text/html": [
       "<div>\n",
       "<style scoped>\n",
       "    .dataframe tbody tr th:only-of-type {\n",
       "        vertical-align: middle;\n",
       "    }\n",
       "\n",
       "    .dataframe tbody tr th {\n",
       "        vertical-align: top;\n",
       "    }\n",
       "\n",
       "    .dataframe thead th {\n",
       "        text-align: right;\n",
       "    }\n",
       "</style>\n",
       "<table border=\"1\" class=\"dataframe\">\n",
       "  <thead>\n",
       "    <tr style=\"text-align: right;\">\n",
       "      <th></th>\n",
       "      <th>index</th>\n",
       "      <th>KNR</th>\n",
       "      <th>STATUS</th>\n",
       "      <th>DATA</th>\n",
       "    </tr>\n",
       "  </thead>\n",
       "  <tbody>\n",
       "    <tr>\n",
       "      <th>0</th>\n",
       "      <td>1048574</td>\n",
       "      <td>2023-4026002</td>\n",
       "      <td>R600</td>\n",
       "      <td>2023-09-29 07:14:44</td>\n",
       "    </tr>\n",
       "    <tr>\n",
       "      <th>1</th>\n",
       "      <td>1048575</td>\n",
       "      <td>2023-4026002</td>\n",
       "      <td>R700</td>\n",
       "      <td>2023-09-29 07:38:47</td>\n",
       "    </tr>\n",
       "    <tr>\n",
       "      <th>2</th>\n",
       "      <td>1048576</td>\n",
       "      <td>2023-4026002</td>\n",
       "      <td>R725</td>\n",
       "      <td>2023-09-29 07:53:00</td>\n",
       "    </tr>\n",
       "    <tr>\n",
       "      <th>3</th>\n",
       "      <td>1048577</td>\n",
       "      <td>2023-4026002</td>\n",
       "      <td>R750</td>\n",
       "      <td>2023-09-29 08:16:23</td>\n",
       "    </tr>\n",
       "    <tr>\n",
       "      <th>4</th>\n",
       "      <td>1048578</td>\n",
       "      <td>2023-4026002</td>\n",
       "      <td>R755</td>\n",
       "      <td>2023-09-29 08:17:01</td>\n",
       "    </tr>\n",
       "  </tbody>\n",
       "</table>\n",
       "</div>"
      ],
      "text/plain": [
       "     index           KNR STATUS                DATA\n",
       "0  1048574  2023-4026002   R600 2023-09-29 07:14:44\n",
       "1  1048575  2023-4026002   R700 2023-09-29 07:38:47\n",
       "2  1048576  2023-4026002   R725 2023-09-29 07:53:00\n",
       "3  1048577  2023-4026002   R750 2023-09-29 08:16:23\n",
       "4  1048578  2023-4026002   R755 2023-09-29 08:17:01"
      ]
     },
     "execution_count": 141,
     "metadata": {},
     "output_type": "execute_result"
    }
   ],
   "source": [
    "df_tst.head()"
   ]
  },
  {
   "cell_type": "code",
   "execution_count": 142,
   "metadata": {},
   "outputs": [
    {
     "data": {
      "text/html": [
       "<div>\n",
       "<style scoped>\n",
       "    .dataframe tbody tr th:only-of-type {\n",
       "        vertical-align: middle;\n",
       "    }\n",
       "\n",
       "    .dataframe tbody tr th {\n",
       "        vertical-align: top;\n",
       "    }\n",
       "\n",
       "    .dataframe thead th {\n",
       "        text-align: right;\n",
       "    }\n",
       "</style>\n",
       "<table border=\"1\" class=\"dataframe\">\n",
       "  <thead>\n",
       "    <tr style=\"text-align: right;\">\n",
       "      <th></th>\n",
       "      <th>KNR</th>\n",
       "      <th>STATUS</th>\n",
       "      <th>DATA</th>\n",
       "    </tr>\n",
       "  </thead>\n",
       "  <tbody>\n",
       "    <tr>\n",
       "      <th>0</th>\n",
       "      <td>2023-4026002</td>\n",
       "      <td>R600</td>\n",
       "      <td>2023-09-29 07:14:44</td>\n",
       "    </tr>\n",
       "    <tr>\n",
       "      <th>1</th>\n",
       "      <td>2023-4026002</td>\n",
       "      <td>R700</td>\n",
       "      <td>2023-09-29 07:38:47</td>\n",
       "    </tr>\n",
       "    <tr>\n",
       "      <th>2</th>\n",
       "      <td>2023-4026002</td>\n",
       "      <td>R725</td>\n",
       "      <td>2023-09-29 07:53:00</td>\n",
       "    </tr>\n",
       "    <tr>\n",
       "      <th>3</th>\n",
       "      <td>2023-4026002</td>\n",
       "      <td>R750</td>\n",
       "      <td>2023-09-29 08:16:23</td>\n",
       "    </tr>\n",
       "    <tr>\n",
       "      <th>4</th>\n",
       "      <td>2023-4026002</td>\n",
       "      <td>R755</td>\n",
       "      <td>2023-09-29 08:17:01</td>\n",
       "    </tr>\n",
       "    <tr>\n",
       "      <th>...</th>\n",
       "      <td>...</td>\n",
       "      <td>...</td>\n",
       "      <td>...</td>\n",
       "    </tr>\n",
       "    <tr>\n",
       "      <th>3299402</th>\n",
       "      <td>2024-2976013</td>\n",
       "      <td>L66A</td>\n",
       "      <td>2024-06-04 08:27:58</td>\n",
       "    </tr>\n",
       "    <tr>\n",
       "      <th>3299403</th>\n",
       "      <td>2024-2976013</td>\n",
       "      <td>L662</td>\n",
       "      <td>2024-06-04 08:28:35</td>\n",
       "    </tr>\n",
       "    <tr>\n",
       "      <th>3299404</th>\n",
       "      <td>2024-2976013</td>\n",
       "      <td>L700</td>\n",
       "      <td>2024-06-04 08:44:57</td>\n",
       "    </tr>\n",
       "    <tr>\n",
       "      <th>3299405</th>\n",
       "      <td>2024-2976013</td>\n",
       "      <td>I100</td>\n",
       "      <td>2024-06-04 08:47:11</td>\n",
       "    </tr>\n",
       "    <tr>\n",
       "      <th>3299406</th>\n",
       "      <td>2024-2976013</td>\n",
       "      <td>L800</td>\n",
       "      <td>2024-06-04 08:47:11</td>\n",
       "    </tr>\n",
       "  </tbody>\n",
       "</table>\n",
       "<p>3299407 rows × 3 columns</p>\n",
       "</div>"
      ],
      "text/plain": [
       "                  KNR STATUS                DATA\n",
       "0        2023-4026002   R600 2023-09-29 07:14:44\n",
       "1        2023-4026002   R700 2023-09-29 07:38:47\n",
       "2        2023-4026002   R725 2023-09-29 07:53:00\n",
       "3        2023-4026002   R750 2023-09-29 08:16:23\n",
       "4        2023-4026002   R755 2023-09-29 08:17:01\n",
       "...               ...    ...                 ...\n",
       "3299402  2024-2976013   L66A 2024-06-04 08:27:58\n",
       "3299403  2024-2976013   L662 2024-06-04 08:28:35\n",
       "3299404  2024-2976013   L700 2024-06-04 08:44:57\n",
       "3299405  2024-2976013   I100 2024-06-04 08:47:11\n",
       "3299406  2024-2976013   L800 2024-06-04 08:47:11\n",
       "\n",
       "[3299407 rows x 3 columns]"
      ]
     },
     "execution_count": 142,
     "metadata": {},
     "output_type": "execute_result"
    }
   ],
   "source": [
    "df_tst.drop(columns=['index'])"
   ]
  },
  {
   "cell_type": "code",
   "execution_count": 143,
   "metadata": {},
   "outputs": [
    {
     "data": {
      "text/plain": [
       "(3299407, 4)"
      ]
     },
     "execution_count": 143,
     "metadata": {},
     "output_type": "execute_result"
    }
   ],
   "source": [
    "df_tst.shape"
   ]
  },
  {
   "cell_type": "code",
   "execution_count": 144,
   "metadata": {},
   "outputs": [
    {
     "data": {
      "text/plain": [
       "Index(['index', 'KNR', 'STATUS', 'DATA'], dtype='object')"
      ]
     },
     "execution_count": 144,
     "metadata": {},
     "output_type": "execute_result"
    }
   ],
   "source": [
    "df_tst.columns"
   ]
  },
  {
   "cell_type": "markdown",
   "metadata": {},
   "source": [
    "## Lista de todos os status associados aos ZPs antes da rodagem"
   ]
  },
  {
   "cell_type": "code",
   "execution_count": 145,
   "metadata": {},
   "outputs": [],
   "source": [
    "ZP7 = ['M695', 'M698', 'M701', 'M702', 'M704', 'M711', 'M712', 'M721', 'M722']\n",
    "ZP5 = ['R640', 'R650', 'R700', 'R754']\n",
    "ZP5A = ['L534', 'L535', 'L536', 'L537', 'L538', 'L539', 'L541', 'L542', 'L543', 'L544', 'L545', 'L546', 'L547', 'L548']\n",
    "ZP6 = ['M599', 'M591', 'M592', 'M593', 'M594', 'M595', 'M596', 'M643', 'M644', 'M647', 'M648', 'M651', 'M652', 'M655', 'M656', 'M673', 'M674', 'M677', 'M678', 'M681', 'M682']\n",
    "CAB = ['M619', 'M643', 'M644', 'M655', 'M656', 'M673', 'M674']"
   ]
  },
  {
   "cell_type": "markdown",
   "metadata": {},
   "source": [
    "Garantindo que os dados do dataset são dados de antes do processo de rodagem"
   ]
  },
  {
   "cell_type": "code",
   "execution_count": 146,
   "metadata": {},
   "outputs": [
    {
     "name": "stdout",
     "output_type": "stream",
     "text": [
      "           index           KNR STATUS                DATA\n",
      "1        1048575  2023-4026002   R700 2023-09-29 07:38:47\n",
      "52       1048626  2023-4026003   R700 2023-09-29 09:15:10\n",
      "105      1048679  2023-4026004   R700 2023-10-02 07:32:03\n",
      "143      1048717  2023-4026004   M599 2023-10-04 09:03:01\n",
      "144      1048718  2023-4026004   M677 2023-10-04 09:23:31\n",
      "...          ...           ...    ...                 ...\n",
      "3299378  4347952  2024-2976013   R700 2024-05-21 13:52:23\n",
      "3299380  4347954  2024-2976013   R650 2024-05-21 14:31:04\n",
      "3299382  4347956  2024-2976013   R754 2024-05-21 14:37:19\n",
      "3299383  4347957  2024-2976013   R754 2024-05-27 14:11:25\n",
      "3299399  4347973  2024-2976013   L535 2024-05-28 11:50:39\n",
      "\n",
      "[136566 rows x 4 columns]\n"
     ]
    }
   ],
   "source": [
    "# Combine todas as listas em uma única lista\n",
    "all_stations = ZP7 + ZP5 + ZP5A + ZP6 + CAB\n",
    "\n",
    "# Filtrar o DataFrame para manter apenas as linhas cujo STATUS está em all_stations\n",
    "df_tst = df_tst[df_tst['STATUS'].isin(all_stations)]\n",
    "\n",
    "# Exibe o DataFrame filtrado\n",
    "print(df_tst)"
   ]
  },
  {
   "cell_type": "code",
   "execution_count": 147,
   "metadata": {},
   "outputs": [
    {
     "data": {
      "text/plain": [
       "(136566, 4)"
      ]
     },
     "execution_count": 147,
     "metadata": {},
     "output_type": "execute_result"
    }
   ],
   "source": [
    "df_tst.shape"
   ]
  },
  {
   "cell_type": "code",
   "execution_count": 148,
   "metadata": {},
   "outputs": [],
   "source": [
    "station_to_group = {\n",
    "    'ZP7': ['M695', 'M698', 'M701', 'M702', 'M704', 'M711', 'M712', 'M721', 'M722'],\n",
    "    'ZP5': ['R640', 'R650', 'R700', 'R754'],\n",
    "    'ZP5A': ['L534', 'L535', 'L536', 'L537', 'L538', 'L539', 'L541', 'L542', 'L543', 'L544', 'L545', 'L546', 'L547', 'L548'],\n",
    "    'ZP6': ['M599', 'M591', 'M592', 'M593', 'M594', 'M595', 'M596', 'M643', 'M644', 'M647', 'M648', 'M651', 'M652', 'M655', 'M656', 'M673', 'M674', 'M677', 'M678', 'M681', 'M682'],\n",
    "    'CAB': ['M619', 'M643', 'M644', 'M655', 'M656', 'M673', 'M674']\n",
    "}"
   ]
  },
  {
   "cell_type": "markdown",
   "metadata": {},
   "source": [
    "### Verificando se o KNR tem pelo menos uma estação de cada ZP e CAB"
   ]
  },
  {
   "cell_type": "code",
   "execution_count": 149,
   "metadata": {},
   "outputs": [
    {
     "name": "stdout",
     "output_type": "stream",
     "text": [
      "           index           KNR STATUS                DATA\n",
      "801      1049375  2023-4026017   R700 2023-09-29 08:44:35\n",
      "818      1049392  2023-4026017   L535 2023-10-02 12:44:03\n",
      "819      1049393  2023-4026017   L545 2023-10-02 21:04:04\n",
      "839      1049413  2023-4026017   M643 2023-10-04 06:48:00\n",
      "854      1049428  2023-4026017   M712 2023-10-10 09:42:33\n",
      "...          ...           ...    ...                 ...\n",
      "3293863  4342437  2024-2656115   L535 2024-06-19 12:59:18\n",
      "3293864  4342438  2024-2656115   L541 2024-06-19 14:05:27\n",
      "3293889  4342463  2024-2656115   M599 2024-06-20 19:01:23\n",
      "3293890  4342464  2024-2656115   M643 2024-06-20 20:20:39\n",
      "3293901  4342475  2024-2656115   M712 2024-06-20 23:09:49\n",
      "\n",
      "[2439 rows x 4 columns]\n"
     ]
    }
   ],
   "source": [
    "# Função para verificar se o KNR tem pelo menos uma estação de cada ZP e CAB\n",
    "def has_at_least_one_station_from_each(df, knr):\n",
    "    stations_in_knr = df[df['KNR'] == knr]['STATUS'].unique()\n",
    "    \n",
    "    # Verifica se o KNR tem pelo menos uma estação de cada ZP e CAB\n",
    "    has_zp7 = any(station in stations_in_knr for station in ZP7)\n",
    "    has_zp5 = any(station in stations_in_knr for station in ZP5)\n",
    "    has_zp5a = any(station in stations_in_knr for station in ZP5A)\n",
    "    has_zp6 = any(station in stations_in_knr for station in ZP6)\n",
    "    has_cab = any(station in stations_in_knr for station in CAB)\n",
    "    \n",
    "    # Retorna True se tiver pelo menos uma estação de cada grupo\n",
    "    return has_zp7 and has_zp5 and has_zp5a and has_zp6 and has_cab\n",
    "\n",
    "# Lista de KNRs únicos no dataset\n",
    "knrs_unicos = df_tst['KNR'].unique()\n",
    "\n",
    "# Filtrar os KNRs que têm pelo menos uma estação de cada ZP e CAB\n",
    "knrs_validos = [knr for knr in knrs_unicos if has_at_least_one_station_from_each(df_tst, knr)]\n",
    "\n",
    "# Filtrar o DataFrame original para manter apenas os KNRs válidos\n",
    "df_filtered = df_tst[df_tst['KNR'].isin(knrs_validos)]\n",
    "\n",
    "# Exibe o DataFrame filtrado\n",
    "print(df_filtered)"
   ]
  },
  {
   "cell_type": "code",
   "execution_count": 150,
   "metadata": {},
   "outputs": [],
   "source": [
    "# Ordene o dataframe por KNR e DATA\n",
    "df_filtered = df_filtered.sort_values(by=['KNR', 'DATA'])"
   ]
  },
  {
   "cell_type": "code",
   "execution_count": 151,
   "metadata": {},
   "outputs": [],
   "source": [
    "# Função para determinar o grupo (ZP ou CAB) baseado no STATUS\n",
    "def get_group(status):\n",
    "    for group, stations in station_to_group.items():\n",
    "        if status in stations:\n",
    "            return group\n",
    "    return None"
   ]
  },
  {
   "cell_type": "markdown",
   "metadata": {},
   "source": [
    "### Calculando o tempo gasto em cada estação"
   ]
  },
  {
   "cell_type": "code",
   "execution_count": 152,
   "metadata": {},
   "outputs": [],
   "source": [
    "# Aplicar a função de grupo ao dataframe\n",
    "df_filtered['Group'] = df_filtered['STATUS'].apply(get_group)\n",
    "\n",
    "# Calcular a diferença de tempo entre os status consecutivos para o mesmo KNR\n",
    "df_filtered['Tempo'] = df_filtered.groupby('KNR')['DATA'].diff().dt.total_seconds() / 60  # Diferença em minutos\n",
    "\n",
    "# Preencher NaN com 0, já que a primeira ocorrência não tem tempo anterior\n",
    "df_filtered['Tempo'] = df_filtered['Tempo'].fillna(0)\n",
    "\n",
    "# Criar colunas para armazenar o tempo gasto em cada ZP/CAB\n",
    "for group in station_to_group.keys():\n",
    "    df_filtered[f'Tempo_{group}'] = df_filtered.apply(lambda row: row['Tempo'] if row['Group'] == group else 0, axis=1)\n",
    "\n",
    "# Agrupar por KNR e somar o tempo gasto em cada ZP/CAB\n",
    "df_result = df_filtered.groupby('KNR').agg({f'Tempo_{group}': 'sum' for group in station_to_group.keys()}).reset_index()"
   ]
  },
  {
   "cell_type": "code",
   "execution_count": 153,
   "metadata": {},
   "outputs": [
    {
     "data": {
      "text/html": [
       "<div>\n",
       "<style scoped>\n",
       "    .dataframe tbody tr th:only-of-type {\n",
       "        vertical-align: middle;\n",
       "    }\n",
       "\n",
       "    .dataframe tbody tr th {\n",
       "        vertical-align: top;\n",
       "    }\n",
       "\n",
       "    .dataframe thead th {\n",
       "        text-align: right;\n",
       "    }\n",
       "</style>\n",
       "<table border=\"1\" class=\"dataframe\">\n",
       "  <thead>\n",
       "    <tr style=\"text-align: right;\">\n",
       "      <th></th>\n",
       "      <th>KNR</th>\n",
       "      <th>Tempo_ZP7</th>\n",
       "      <th>Tempo_ZP5</th>\n",
       "      <th>Tempo_ZP5A</th>\n",
       "      <th>Tempo_ZP6</th>\n",
       "      <th>Tempo_CAB</th>\n",
       "    </tr>\n",
       "  </thead>\n",
       "  <tbody>\n",
       "    <tr>\n",
       "      <th>0</th>\n",
       "      <td>2023-4026017</td>\n",
       "      <td>8929.583333</td>\n",
       "      <td>0.0</td>\n",
       "      <td>5059.483333</td>\n",
       "      <td>2023.933333</td>\n",
       "      <td>0.0</td>\n",
       "    </tr>\n",
       "    <tr>\n",
       "      <th>1</th>\n",
       "      <td>2023-4056259</td>\n",
       "      <td>23.250000</td>\n",
       "      <td>0.0</td>\n",
       "      <td>1892.083333</td>\n",
       "      <td>5652.466667</td>\n",
       "      <td>0.0</td>\n",
       "    </tr>\n",
       "    <tr>\n",
       "      <th>2</th>\n",
       "      <td>2023-4066230</td>\n",
       "      <td>1290.583333</td>\n",
       "      <td>0.0</td>\n",
       "      <td>4711.016667</td>\n",
       "      <td>1425.533333</td>\n",
       "      <td>0.0</td>\n",
       "    </tr>\n",
       "    <tr>\n",
       "      <th>3</th>\n",
       "      <td>2023-4216062</td>\n",
       "      <td>1223.116667</td>\n",
       "      <td>0.0</td>\n",
       "      <td>1810.966667</td>\n",
       "      <td>9595.050000</td>\n",
       "      <td>87.5</td>\n",
       "    </tr>\n",
       "    <tr>\n",
       "      <th>4</th>\n",
       "      <td>2023-4216104</td>\n",
       "      <td>251.283333</td>\n",
       "      <td>0.0</td>\n",
       "      <td>8261.833333</td>\n",
       "      <td>1717.616667</td>\n",
       "      <td>0.0</td>\n",
       "    </tr>\n",
       "  </tbody>\n",
       "</table>\n",
       "</div>"
      ],
      "text/plain": [
       "            KNR    Tempo_ZP7  Tempo_ZP5   Tempo_ZP5A    Tempo_ZP6  Tempo_CAB\n",
       "0  2023-4026017  8929.583333        0.0  5059.483333  2023.933333        0.0\n",
       "1  2023-4056259    23.250000        0.0  1892.083333  5652.466667        0.0\n",
       "2  2023-4066230  1290.583333        0.0  4711.016667  1425.533333        0.0\n",
       "3  2023-4216062  1223.116667        0.0  1810.966667  9595.050000       87.5\n",
       "4  2023-4216104   251.283333        0.0  8261.833333  1717.616667        0.0"
      ]
     },
     "execution_count": 153,
     "metadata": {},
     "output_type": "execute_result"
    }
   ],
   "source": [
    "df_result.head()"
   ]
  },
  {
   "cell_type": "code",
   "execution_count": 154,
   "metadata": {},
   "outputs": [
    {
     "name": "stdout",
     "output_type": "stream",
     "text": [
      "Quantidade de KNRs únicos no dataset: 308\n"
     ]
    }
   ],
   "source": [
    "# Conta a quantidade de KNRs únicos no dataset\n",
    "num_knrs_unicos = df_result['KNR'].nunique()\n",
    "\n",
    "# Exibe o resultado\n",
    "print(f\"Quantidade de KNRs únicos no dataset: {num_knrs_unicos}\")"
   ]
  },
  {
   "cell_type": "markdown",
   "metadata": {},
   "source": [
    "## Criação da coluna com a informação de Falhas"
   ]
  },
  {
   "cell_type": "code",
   "execution_count": 155,
   "metadata": {},
   "outputs": [
    {
     "data": {
      "text/html": [
       "<div>\n",
       "<style scoped>\n",
       "    .dataframe tbody tr th:only-of-type {\n",
       "        vertical-align: middle;\n",
       "    }\n",
       "\n",
       "    .dataframe tbody tr th {\n",
       "        vertical-align: top;\n",
       "    }\n",
       "\n",
       "    .dataframe thead th {\n",
       "        text-align: right;\n",
       "    }\n",
       "</style>\n",
       "<table border=\"1\" class=\"dataframe\">\n",
       "  <thead>\n",
       "    <tr style=\"text-align: right;\">\n",
       "      <th></th>\n",
       "      <th>Unnamed: 0</th>\n",
       "      <th>Unnamed: 1</th>\n",
       "      <th>Unnamed: 2</th>\n",
       "      <th>Unnamed: 3</th>\n",
       "      <th>Unnamed: 4</th>\n",
       "      <th>Unnamed: 5</th>\n",
       "      <th>Unnamed: 6</th>\n",
       "      <th>Unnamed: 7</th>\n",
       "      <th>Unnamed: 8</th>\n",
       "      <th>Unnamed: 9</th>\n",
       "    </tr>\n",
       "  </thead>\n",
       "  <tbody>\n",
       "    <tr>\n",
       "      <th>0</th>\n",
       "      <td>NaN</td>\n",
       "      <td>82662</td>\n",
       "      <td>NaN</td>\n",
       "      <td>NaN</td>\n",
       "      <td>NaN</td>\n",
       "      <td>NaN</td>\n",
       "      <td>NaN</td>\n",
       "      <td>NaN</td>\n",
       "      <td>NaN</td>\n",
       "      <td>NaN</td>\n",
       "    </tr>\n",
       "    <tr>\n",
       "      <th>1</th>\n",
       "      <td>NaN</td>\n",
       "      <td>KNR</td>\n",
       "      <td>MODELO</td>\n",
       "      <td>COR</td>\n",
       "      <td>MOTOR</td>\n",
       "      <td>ESTACAO</td>\n",
       "      <td>USUARIO</td>\n",
       "      <td>HALLE</td>\n",
       "      <td>FALHA</td>\n",
       "      <td>DATA</td>\n",
       "    </tr>\n",
       "    <tr>\n",
       "      <th>2</th>\n",
       "      <td>NaN</td>\n",
       "      <td>2023-1326197</td>\n",
       "      <td>T-CROSS</td>\n",
       "      <td>0Q0Q</td>\n",
       "      <td>DHS</td>\n",
       "      <td>PCEQS100</td>\n",
       "      <td>2043521</td>\n",
       "      <td>ZP5</td>\n",
       "      <td>Porta dianteira Folga (Ajuste)</td>\n",
       "      <td>2023-01-09 22:24:44.272000</td>\n",
       "    </tr>\n",
       "    <tr>\n",
       "      <th>3</th>\n",
       "      <td>NaN</td>\n",
       "      <td>2023-1326197</td>\n",
       "      <td>T-CROSS</td>\n",
       "      <td>0Q0Q</td>\n",
       "      <td>DHS</td>\n",
       "      <td>PCEQS100</td>\n",
       "      <td>2043521</td>\n",
       "      <td>ZP5</td>\n",
       "      <td>Porta traseira Folga (Ajuste)</td>\n",
       "      <td>2023-01-09 22:25:02.960000</td>\n",
       "    </tr>\n",
       "    <tr>\n",
       "      <th>4</th>\n",
       "      <td>NaN</td>\n",
       "      <td>2023-4130482</td>\n",
       "      <td>AUDI Q3</td>\n",
       "      <td>2Y2Y</td>\n",
       "      <td>DSN</td>\n",
       "      <td>PCEQS999</td>\n",
       "      <td>2054701</td>\n",
       "      <td>ESPC</td>\n",
       "      <td>Lanterna tras (09) Interfere</td>\n",
       "      <td>2023-01-10 09:18:25.238000</td>\n",
       "    </tr>\n",
       "  </tbody>\n",
       "</table>\n",
       "</div>"
      ],
      "text/plain": [
       "   Unnamed: 0    Unnamed: 1 Unnamed: 2 Unnamed: 3 Unnamed: 4 Unnamed: 5  \\\n",
       "0         NaN         82662        NaN        NaN        NaN        NaN   \n",
       "1         NaN           KNR     MODELO        COR      MOTOR    ESTACAO   \n",
       "2         NaN  2023-1326197    T-CROSS       0Q0Q        DHS   PCEQS100   \n",
       "3         NaN  2023-1326197    T-CROSS       0Q0Q        DHS   PCEQS100   \n",
       "4         NaN  2023-4130482    AUDI Q3       2Y2Y        DSN   PCEQS999   \n",
       "\n",
       "  Unnamed: 6 Unnamed: 7                      Unnamed: 8  \\\n",
       "0        NaN        NaN                             NaN   \n",
       "1    USUARIO      HALLE                           FALHA   \n",
       "2    2043521        ZP5  Porta dianteira Folga (Ajuste)   \n",
       "3    2043521        ZP5   Porta traseira Folga (Ajuste)   \n",
       "4    2054701       ESPC    Lanterna tras (09) Interfere   \n",
       "\n",
       "                   Unnamed: 9  \n",
       "0                         NaN  \n",
       "1                        DATA  \n",
       "2  2023-01-09 22:24:44.272000  \n",
       "3  2023-01-09 22:25:02.960000  \n",
       "4  2023-01-10 09:18:25.238000  "
      ]
     },
     "execution_count": 155,
     "metadata": {},
     "output_type": "execute_result"
    }
   ],
   "source": [
    "df_falhas.head()"
   ]
  },
  {
   "cell_type": "code",
   "execution_count": 156,
   "metadata": {},
   "outputs": [
    {
     "data": {
      "text/html": [
       "<div>\n",
       "<style scoped>\n",
       "    .dataframe tbody tr th:only-of-type {\n",
       "        vertical-align: middle;\n",
       "    }\n",
       "\n",
       "    .dataframe tbody tr th {\n",
       "        vertical-align: top;\n",
       "    }\n",
       "\n",
       "    .dataframe thead th {\n",
       "        text-align: right;\n",
       "    }\n",
       "</style>\n",
       "<table border=\"1\" class=\"dataframe\">\n",
       "  <thead>\n",
       "    <tr style=\"text-align: right;\">\n",
       "      <th>1</th>\n",
       "      <th>NaN</th>\n",
       "      <th>KNR</th>\n",
       "      <th>MODELO</th>\n",
       "      <th>COR</th>\n",
       "      <th>MOTOR</th>\n",
       "      <th>ESTACAO</th>\n",
       "      <th>USUARIO</th>\n",
       "      <th>HALLE</th>\n",
       "      <th>FALHA</th>\n",
       "      <th>DATA</th>\n",
       "    </tr>\n",
       "  </thead>\n",
       "  <tbody>\n",
       "    <tr>\n",
       "      <th>0</th>\n",
       "      <td>NaN</td>\n",
       "      <td>2023-1326197</td>\n",
       "      <td>T-CROSS</td>\n",
       "      <td>0Q0Q</td>\n",
       "      <td>DHS</td>\n",
       "      <td>PCEQS100</td>\n",
       "      <td>2043521</td>\n",
       "      <td>ZP5</td>\n",
       "      <td>Porta dianteira Folga (Ajuste)</td>\n",
       "      <td>2023-01-09 22:24:44.272000</td>\n",
       "    </tr>\n",
       "    <tr>\n",
       "      <th>1</th>\n",
       "      <td>NaN</td>\n",
       "      <td>2023-1326197</td>\n",
       "      <td>T-CROSS</td>\n",
       "      <td>0Q0Q</td>\n",
       "      <td>DHS</td>\n",
       "      <td>PCEQS100</td>\n",
       "      <td>2043521</td>\n",
       "      <td>ZP5</td>\n",
       "      <td>Porta traseira Folga (Ajuste)</td>\n",
       "      <td>2023-01-09 22:25:02.960000</td>\n",
       "    </tr>\n",
       "    <tr>\n",
       "      <th>2</th>\n",
       "      <td>NaN</td>\n",
       "      <td>2023-4130482</td>\n",
       "      <td>AUDI Q3</td>\n",
       "      <td>2Y2Y</td>\n",
       "      <td>DSN</td>\n",
       "      <td>PCEQS999</td>\n",
       "      <td>2054701</td>\n",
       "      <td>ESPC</td>\n",
       "      <td>Lanterna tras (09) Interfere</td>\n",
       "      <td>2023-01-10 09:18:25.238000</td>\n",
       "    </tr>\n",
       "    <tr>\n",
       "      <th>3</th>\n",
       "      <td>NaN</td>\n",
       "      <td>2023-4130482</td>\n",
       "      <td>AUDI Q3</td>\n",
       "      <td>2Y2Y</td>\n",
       "      <td>DSN</td>\n",
       "      <td>PCEQS999</td>\n",
       "      <td>2054701</td>\n",
       "      <td>ESPC</td>\n",
       "      <td>Emblema / logo - Adesivos em geral Solto(a) ¨</td>\n",
       "      <td>2023-01-10 09:18:40.728000</td>\n",
       "    </tr>\n",
       "    <tr>\n",
       "      <th>4</th>\n",
       "      <td>NaN</td>\n",
       "      <td>2023-4130664</td>\n",
       "      <td>AUDI Q3</td>\n",
       "      <td>6Y6Y</td>\n",
       "      <td>DSN</td>\n",
       "      <td>PCEQS805</td>\n",
       "      <td>7000240</td>\n",
       "      <td>ZP82</td>\n",
       "      <td>Painel instrumentos Ruído (-)</td>\n",
       "      <td>2023-01-10 11:17:56.489000</td>\n",
       "    </tr>\n",
       "  </tbody>\n",
       "</table>\n",
       "</div>"
      ],
      "text/plain": [
       "1  NaN           KNR   MODELO   COR MOTOR   ESTACAO  USUARIO HALLE  \\\n",
       "0  NaN  2023-1326197  T-CROSS  0Q0Q   DHS  PCEQS100  2043521   ZP5   \n",
       "1  NaN  2023-1326197  T-CROSS  0Q0Q   DHS  PCEQS100  2043521   ZP5   \n",
       "2  NaN  2023-4130482  AUDI Q3  2Y2Y   DSN  PCEQS999  2054701  ESPC   \n",
       "3  NaN  2023-4130482  AUDI Q3  2Y2Y   DSN  PCEQS999  2054701  ESPC   \n",
       "4  NaN  2023-4130664  AUDI Q3  6Y6Y   DSN  PCEQS805  7000240  ZP82   \n",
       "\n",
       "1                                          FALHA                        DATA  \n",
       "0                 Porta dianteira Folga (Ajuste)  2023-01-09 22:24:44.272000  \n",
       "1                  Porta traseira Folga (Ajuste)  2023-01-09 22:25:02.960000  \n",
       "2                   Lanterna tras (09) Interfere  2023-01-10 09:18:25.238000  \n",
       "3  Emblema / logo - Adesivos em geral Solto(a) ¨  2023-01-10 09:18:40.728000  \n",
       "4                  Painel instrumentos Ruído (-)  2023-01-10 11:17:56.489000  "
      ]
     },
     "execution_count": 156,
     "metadata": {},
     "output_type": "execute_result"
    }
   ],
   "source": [
    "# Definir a linha correta como cabeçalho\n",
    "df_falhas.columns = df_falhas.iloc[1]\n",
    "df_falhas = df_falhas[2:]\n",
    "\n",
    "# Resetar o índice do DataFrame\n",
    "df_falhas.reset_index(drop=True, inplace=True)\n",
    "\n",
    "df_falhas.head()"
   ]
  },
  {
   "cell_type": "code",
   "execution_count": 157,
   "metadata": {},
   "outputs": [
    {
     "data": {
      "text/plain": [
       "Index([      nan,     'KNR',  'MODELO',     'COR',   'MOTOR', 'ESTACAO',\n",
       "       'USUARIO',   'HALLE',   'FALHA',    'DATA'],\n",
       "      dtype='object', name=1)"
      ]
     },
     "execution_count": 157,
     "metadata": {},
     "output_type": "execute_result"
    }
   ],
   "source": [
    "df_falhas.columns"
   ]
  },
  {
   "cell_type": "code",
   "execution_count": 158,
   "metadata": {},
   "outputs": [],
   "source": [
    "# Remover a coluna `NaN`\n",
    "df_falhas.dropna(axis=1, how='all', inplace=True)"
   ]
  },
  {
   "cell_type": "code",
   "execution_count": 159,
   "metadata": {},
   "outputs": [
    {
     "data": {
      "text/html": [
       "<div>\n",
       "<style scoped>\n",
       "    .dataframe tbody tr th:only-of-type {\n",
       "        vertical-align: middle;\n",
       "    }\n",
       "\n",
       "    .dataframe tbody tr th {\n",
       "        vertical-align: top;\n",
       "    }\n",
       "\n",
       "    .dataframe thead th {\n",
       "        text-align: right;\n",
       "    }\n",
       "</style>\n",
       "<table border=\"1\" class=\"dataframe\">\n",
       "  <thead>\n",
       "    <tr style=\"text-align: right;\">\n",
       "      <th>1</th>\n",
       "      <th>KNR</th>\n",
       "      <th>MODELO</th>\n",
       "      <th>COR</th>\n",
       "      <th>MOTOR</th>\n",
       "      <th>ESTACAO</th>\n",
       "      <th>USUARIO</th>\n",
       "      <th>HALLE</th>\n",
       "      <th>FALHA</th>\n",
       "      <th>DATA</th>\n",
       "    </tr>\n",
       "  </thead>\n",
       "  <tbody>\n",
       "    <tr>\n",
       "      <th>0</th>\n",
       "      <td>2023-1326197</td>\n",
       "      <td>T-CROSS</td>\n",
       "      <td>0Q0Q</td>\n",
       "      <td>DHS</td>\n",
       "      <td>PCEQS100</td>\n",
       "      <td>2043521</td>\n",
       "      <td>ZP5</td>\n",
       "      <td>Porta dianteira Folga (Ajuste)</td>\n",
       "      <td>2023-01-09 22:24:44.272000</td>\n",
       "    </tr>\n",
       "    <tr>\n",
       "      <th>1</th>\n",
       "      <td>2023-1326197</td>\n",
       "      <td>T-CROSS</td>\n",
       "      <td>0Q0Q</td>\n",
       "      <td>DHS</td>\n",
       "      <td>PCEQS100</td>\n",
       "      <td>2043521</td>\n",
       "      <td>ZP5</td>\n",
       "      <td>Porta traseira Folga (Ajuste)</td>\n",
       "      <td>2023-01-09 22:25:02.960000</td>\n",
       "    </tr>\n",
       "    <tr>\n",
       "      <th>2</th>\n",
       "      <td>2023-4130482</td>\n",
       "      <td>AUDI Q3</td>\n",
       "      <td>2Y2Y</td>\n",
       "      <td>DSN</td>\n",
       "      <td>PCEQS999</td>\n",
       "      <td>2054701</td>\n",
       "      <td>ESPC</td>\n",
       "      <td>Lanterna tras (09) Interfere</td>\n",
       "      <td>2023-01-10 09:18:25.238000</td>\n",
       "    </tr>\n",
       "    <tr>\n",
       "      <th>3</th>\n",
       "      <td>2023-4130482</td>\n",
       "      <td>AUDI Q3</td>\n",
       "      <td>2Y2Y</td>\n",
       "      <td>DSN</td>\n",
       "      <td>PCEQS999</td>\n",
       "      <td>2054701</td>\n",
       "      <td>ESPC</td>\n",
       "      <td>Emblema / logo - Adesivos em geral Solto(a) ¨</td>\n",
       "      <td>2023-01-10 09:18:40.728000</td>\n",
       "    </tr>\n",
       "    <tr>\n",
       "      <th>4</th>\n",
       "      <td>2023-4130664</td>\n",
       "      <td>AUDI Q3</td>\n",
       "      <td>6Y6Y</td>\n",
       "      <td>DSN</td>\n",
       "      <td>PCEQS805</td>\n",
       "      <td>7000240</td>\n",
       "      <td>ZP82</td>\n",
       "      <td>Painel instrumentos Ruído (-)</td>\n",
       "      <td>2023-01-10 11:17:56.489000</td>\n",
       "    </tr>\n",
       "  </tbody>\n",
       "</table>\n",
       "</div>"
      ],
      "text/plain": [
       "1           KNR   MODELO   COR MOTOR   ESTACAO  USUARIO HALLE  \\\n",
       "0  2023-1326197  T-CROSS  0Q0Q   DHS  PCEQS100  2043521   ZP5   \n",
       "1  2023-1326197  T-CROSS  0Q0Q   DHS  PCEQS100  2043521   ZP5   \n",
       "2  2023-4130482  AUDI Q3  2Y2Y   DSN  PCEQS999  2054701  ESPC   \n",
       "3  2023-4130482  AUDI Q3  2Y2Y   DSN  PCEQS999  2054701  ESPC   \n",
       "4  2023-4130664  AUDI Q3  6Y6Y   DSN  PCEQS805  7000240  ZP82   \n",
       "\n",
       "1                                          FALHA                        DATA  \n",
       "0                 Porta dianteira Folga (Ajuste)  2023-01-09 22:24:44.272000  \n",
       "1                  Porta traseira Folga (Ajuste)  2023-01-09 22:25:02.960000  \n",
       "2                   Lanterna tras (09) Interfere  2023-01-10 09:18:25.238000  \n",
       "3  Emblema / logo - Adesivos em geral Solto(a) ¨  2023-01-10 09:18:40.728000  \n",
       "4                  Painel instrumentos Ruído (-)  2023-01-10 11:17:56.489000  "
      ]
     },
     "execution_count": 159,
     "metadata": {},
     "output_type": "execute_result"
    }
   ],
   "source": [
    "df_falhas.head()"
   ]
  },
  {
   "cell_type": "code",
   "execution_count": 160,
   "metadata": {},
   "outputs": [
    {
     "name": "stdout",
     "output_type": "stream",
     "text": [
      "<class 'pandas.core.frame.DataFrame'>\n",
      "RangeIndex: 663819 entries, 0 to 663818\n",
      "Data columns (total 9 columns):\n",
      " #   Column   Non-Null Count   Dtype \n",
      "---  ------   --------------   ----- \n",
      " 0   KNR      663819 non-null  object\n",
      " 1   MODELO   663819 non-null  object\n",
      " 2   COR      663819 non-null  object\n",
      " 3   MOTOR    663819 non-null  object\n",
      " 4   ESTACAO  663816 non-null  object\n",
      " 5   USUARIO  663816 non-null  object\n",
      " 6   HALLE    662762 non-null  object\n",
      " 7   FALHA    663809 non-null  object\n",
      " 8   DATA     663819 non-null  object\n",
      "dtypes: object(9)\n",
      "memory usage: 45.6+ MB\n"
     ]
    }
   ],
   "source": [
    "df_falhas = df_falhas.drop_duplicates()\n",
    "df_falhas.info()"
   ]
  },
  {
   "cell_type": "code",
   "execution_count": 161,
   "metadata": {},
   "outputs": [],
   "source": [
    "# Dropar colunas\n",
    "df_falhas.drop(['MODELO',     'COR',   'MOTOR', 'ESTACAO', 'USUARIO',   'HALLE',   'FALHA',    'DATA'], axis=1, inplace=True)"
   ]
  },
  {
   "cell_type": "code",
   "execution_count": 162,
   "metadata": {},
   "outputs": [
    {
     "data": {
      "text/html": [
       "<div>\n",
       "<style scoped>\n",
       "    .dataframe tbody tr th:only-of-type {\n",
       "        vertical-align: middle;\n",
       "    }\n",
       "\n",
       "    .dataframe tbody tr th {\n",
       "        vertical-align: top;\n",
       "    }\n",
       "\n",
       "    .dataframe thead th {\n",
       "        text-align: right;\n",
       "    }\n",
       "</style>\n",
       "<table border=\"1\" class=\"dataframe\">\n",
       "  <thead>\n",
       "    <tr style=\"text-align: right;\">\n",
       "      <th>1</th>\n",
       "      <th>KNR</th>\n",
       "    </tr>\n",
       "  </thead>\n",
       "  <tbody>\n",
       "    <tr>\n",
       "      <th>0</th>\n",
       "      <td>2023-1326197</td>\n",
       "    </tr>\n",
       "    <tr>\n",
       "      <th>1</th>\n",
       "      <td>2023-1326197</td>\n",
       "    </tr>\n",
       "    <tr>\n",
       "      <th>2</th>\n",
       "      <td>2023-4130482</td>\n",
       "    </tr>\n",
       "    <tr>\n",
       "      <th>3</th>\n",
       "      <td>2023-4130482</td>\n",
       "    </tr>\n",
       "    <tr>\n",
       "      <th>4</th>\n",
       "      <td>2023-4130664</td>\n",
       "    </tr>\n",
       "  </tbody>\n",
       "</table>\n",
       "</div>"
      ],
      "text/plain": [
       "1           KNR\n",
       "0  2023-1326197\n",
       "1  2023-1326197\n",
       "2  2023-4130482\n",
       "3  2023-4130482\n",
       "4  2023-4130664"
      ]
     },
     "execution_count": 162,
     "metadata": {},
     "output_type": "execute_result"
    }
   ],
   "source": [
    "df_falhas.head()"
   ]
  },
  {
   "cell_type": "markdown",
   "metadata": {},
   "source": [
    "Se o KNR esta presnete no dataset de status e na tabela falhas, significa que o KNR teve alguma falha (1), se só estiver em status, significa que não teve(0)."
   ]
  },
  {
   "cell_type": "code",
   "execution_count": 164,
   "metadata": {},
   "outputs": [
    {
     "name": "stdout",
     "output_type": "stream",
     "text": [
      "              KNR    Tempo_ZP7  Tempo_ZP5   Tempo_ZP5A    Tempo_ZP6  \\\n",
      "0    2023-4026017  8929.583333   0.000000  5059.483333  2023.933333   \n",
      "1    2023-4056259    23.250000   0.000000  1892.083333  5652.466667   \n",
      "2    2023-4066230  1290.583333   0.000000  4711.016667  1425.533333   \n",
      "3    2023-4216062  1223.116667   0.000000  1810.966667  9595.050000   \n",
      "4    2023-4216104   251.283333   0.000000  8261.833333  1717.616667   \n",
      "..            ...          ...        ...          ...          ...   \n",
      "303  2024-2626243   733.783333   0.000000  1397.633333   749.083333   \n",
      "304  2024-2626276   373.200000   0.000000   964.516667  1900.816667   \n",
      "305  2024-2626342   146.433333   0.000000  2376.666667  1160.700000   \n",
      "306  2024-2636309   590.650000   0.000000  1410.433333  2690.116667   \n",
      "307  2024-2656115   169.166667  32.433333  1445.716667  1815.200000   \n",
      "\n",
      "     Tempo_CAB  temFalha  \n",
      "0          0.0         1  \n",
      "1          0.0         1  \n",
      "2          0.0         1  \n",
      "3         87.5         1  \n",
      "4          0.0         1  \n",
      "..         ...       ...  \n",
      "303        0.0         0  \n",
      "304        0.0         0  \n",
      "305        0.0         0  \n",
      "306        0.0         0  \n",
      "307        0.0         0  \n",
      "\n",
      "[308 rows x 7 columns]\n"
     ]
    }
   ],
   "source": [
    "# Adicionar a coluna temFalha no df com base nos KNRs que aparecem em df_falhas\n",
    "df_result['temFalha'] = df_result['KNR'].apply(lambda knr: 1 if knr in df_falhas['KNR'].values else 0)\n",
    "\n",
    "print(df_result)"
   ]
  },
  {
   "cell_type": "code",
   "execution_count": 165,
   "metadata": {},
   "outputs": [
    {
     "data": {
      "text/html": [
       "<div>\n",
       "<style scoped>\n",
       "    .dataframe tbody tr th:only-of-type {\n",
       "        vertical-align: middle;\n",
       "    }\n",
       "\n",
       "    .dataframe tbody tr th {\n",
       "        vertical-align: top;\n",
       "    }\n",
       "\n",
       "    .dataframe thead th {\n",
       "        text-align: right;\n",
       "    }\n",
       "</style>\n",
       "<table border=\"1\" class=\"dataframe\">\n",
       "  <thead>\n",
       "    <tr style=\"text-align: right;\">\n",
       "      <th></th>\n",
       "      <th>KNR</th>\n",
       "      <th>Tempo_ZP7</th>\n",
       "      <th>Tempo_ZP5</th>\n",
       "      <th>Tempo_ZP5A</th>\n",
       "      <th>Tempo_ZP6</th>\n",
       "      <th>Tempo_CAB</th>\n",
       "      <th>temFalha</th>\n",
       "    </tr>\n",
       "  </thead>\n",
       "  <tbody>\n",
       "    <tr>\n",
       "      <th>0</th>\n",
       "      <td>2023-4026017</td>\n",
       "      <td>8929.583333</td>\n",
       "      <td>0.0</td>\n",
       "      <td>5059.483333</td>\n",
       "      <td>2023.933333</td>\n",
       "      <td>0.0</td>\n",
       "      <td>1</td>\n",
       "    </tr>\n",
       "    <tr>\n",
       "      <th>1</th>\n",
       "      <td>2023-4056259</td>\n",
       "      <td>23.250000</td>\n",
       "      <td>0.0</td>\n",
       "      <td>1892.083333</td>\n",
       "      <td>5652.466667</td>\n",
       "      <td>0.0</td>\n",
       "      <td>1</td>\n",
       "    </tr>\n",
       "    <tr>\n",
       "      <th>2</th>\n",
       "      <td>2023-4066230</td>\n",
       "      <td>1290.583333</td>\n",
       "      <td>0.0</td>\n",
       "      <td>4711.016667</td>\n",
       "      <td>1425.533333</td>\n",
       "      <td>0.0</td>\n",
       "      <td>1</td>\n",
       "    </tr>\n",
       "    <tr>\n",
       "      <th>3</th>\n",
       "      <td>2023-4216062</td>\n",
       "      <td>1223.116667</td>\n",
       "      <td>0.0</td>\n",
       "      <td>1810.966667</td>\n",
       "      <td>9595.050000</td>\n",
       "      <td>87.5</td>\n",
       "      <td>1</td>\n",
       "    </tr>\n",
       "    <tr>\n",
       "      <th>4</th>\n",
       "      <td>2023-4216104</td>\n",
       "      <td>251.283333</td>\n",
       "      <td>0.0</td>\n",
       "      <td>8261.833333</td>\n",
       "      <td>1717.616667</td>\n",
       "      <td>0.0</td>\n",
       "      <td>1</td>\n",
       "    </tr>\n",
       "  </tbody>\n",
       "</table>\n",
       "</div>"
      ],
      "text/plain": [
       "            KNR    Tempo_ZP7  Tempo_ZP5   Tempo_ZP5A    Tempo_ZP6  Tempo_CAB  \\\n",
       "0  2023-4026017  8929.583333        0.0  5059.483333  2023.933333        0.0   \n",
       "1  2023-4056259    23.250000        0.0  1892.083333  5652.466667        0.0   \n",
       "2  2023-4066230  1290.583333        0.0  4711.016667  1425.533333        0.0   \n",
       "3  2023-4216062  1223.116667        0.0  1810.966667  9595.050000       87.5   \n",
       "4  2023-4216104   251.283333        0.0  8261.833333  1717.616667        0.0   \n",
       "\n",
       "   temFalha  \n",
       "0         1  \n",
       "1         1  \n",
       "2         1  \n",
       "3         1  \n",
       "4         1  "
      ]
     },
     "execution_count": 165,
     "metadata": {},
     "output_type": "execute_result"
    }
   ],
   "source": [
    "df_result.head()"
   ]
  },
  {
   "cell_type": "code",
   "execution_count": 166,
   "metadata": {},
   "outputs": [],
   "source": [
    "df_result.to_csv('dataset_filtrado.csv', index=False)"
   ]
  }
 ],
 "metadata": {
  "kernelspec": {
   "display_name": "Python 3 (ipykernel)",
   "language": "python",
   "name": "python3"
  },
  "language_info": {
   "codemirror_mode": {
    "name": "ipython",
    "version": 3
   },
   "file_extension": ".py",
   "mimetype": "text/x-python",
   "name": "python",
   "nbconvert_exporter": "python",
   "pygments_lexer": "ipython3",
   "version": "3.10.12"
  }
 },
 "nbformat": 4,
 "nbformat_minor": 4
}
